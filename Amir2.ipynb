{
  "nbformat": 4,
  "nbformat_minor": 0,
  "metadata": {
    "colab": {
      "provenance": [],
      "authorship_tag": "ABX9TyNIBOma5K1ZKX0CViewSZY4",
      "include_colab_link": true
    },
    "kernelspec": {
      "name": "python3",
      "display_name": "Python 3"
    },
    "language_info": {
      "name": "python"
    }
  },
  "cells": [
    {
      "cell_type": "markdown",
      "metadata": {
        "id": "view-in-github",
        "colab_type": "text"
      },
      "source": [
        "<a href=\"https://colab.research.google.com/github/Amir10032003/Basic-of-python/blob/main/Amir2.ipynb\" target=\"_parent\"><img src=\"https://colab.research.google.com/assets/colab-badge.svg\" alt=\"Open In Colab\"/></a>"
      ]
    },
    {
      "cell_type": "code",
      "execution_count": 9,
      "metadata": {
        "colab": {
          "base_uri": "https://localhost:8080/"
        },
        "id": "N44LFQHczK8t",
        "outputId": "7f965057-d054-498c-c7f9-0ed08a8559bf"
      },
      "outputs": [
        {
          "output_type": "stream",
          "name": "stdout",
          "text": [
            "Enter first number : 2\n",
            "Entetr second number : 4\n",
            "The sum is : 6\n"
          ]
        }
      ],
      "source": [
        "first = input(\"Enter first number : \")\n",
        "second = input(\"Entetr second number : \")\n",
        "sum = int(first) + int(second)\n",
        "print(\"The sum is : \" + str(sum))"
      ]
    },
    {
      "cell_type": "code",
      "source": [
        "# String\n",
        "\n",
        "name = input(\"My name is : \")\n",
        "print(name.upper())\n",
        "print(name.lower())\n",
        "print(name)"
      ],
      "metadata": {
        "id": "n3-ZfnhQ0rQ3",
        "outputId": "6e465993-8071-4c81-b70d-1d5a3d6648a3",
        "colab": {
          "base_uri": "https://localhost:8080/"
        }
      },
      "execution_count": 12,
      "outputs": [
        {
          "output_type": "stream",
          "name": "stdout",
          "text": [
            "My name is : amir\n",
            "AMIR\n",
            "amir\n",
            "amir\n"
          ]
        }
      ]
    },
    {
      "cell_type": "code",
      "source": [
        "# For Search\n",
        "name = \"Amir\"\n",
        "print(name.find('i'))"
      ],
      "metadata": {
        "id": "WkHRoq9W1qw1",
        "outputId": "b6edc186-d427-44b4-aeb6-9afd9a4296aa",
        "colab": {
          "base_uri": "https://localhost:8080/"
        }
      },
      "execution_count": 15,
      "outputs": [
        {
          "output_type": "stream",
          "name": "stdout",
          "text": [
            "2\n"
          ]
        }
      ]
    },
    {
      "cell_type": "code",
      "source": [
        "name  = \"Tony stark\"\n",
        "print('T' in name)\n",
        "print('m' in name)\n"
      ],
      "metadata": {
        "id": "GU_tPIRM3Qn9",
        "outputId": "6ebfdc0b-c095-4fc5-ae09-3aaf89a62001",
        "colab": {
          "base_uri": "https://localhost:8080/"
        }
      },
      "execution_count": 17,
      "outputs": [
        {
          "output_type": "stream",
          "name": "stdout",
          "text": [
            "True\n",
            "False\n"
          ]
        }
      ]
    }
  ]
}