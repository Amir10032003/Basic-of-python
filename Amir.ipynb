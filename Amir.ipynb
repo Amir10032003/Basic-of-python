{
  "nbformat": 4,
  "nbformat_minor": 0,
  "metadata": {
    "colab": {
      "provenance": [],
      "authorship_tag": "ABX9TyPhunyW+DopEO4QetvfqF/a",
      "include_colab_link": true
    },
    "kernelspec": {
      "name": "python3",
      "display_name": "Python 3"
    },
    "language_info": {
      "name": "python"
    }
  },
  "cells": [
    {
      "cell_type": "markdown",
      "metadata": {
        "id": "view-in-github",
        "colab_type": "text"
      },
      "source": [
        "<a href=\"https://colab.research.google.com/github/Amir10032003/Basic-of-python/blob/main/Amir.ipynb\" target=\"_parent\"><img src=\"https://colab.research.google.com/assets/colab-badge.svg\" alt=\"Open In Colab\"/></a>"
      ]
    },
    {
      "cell_type": "code",
      "execution_count": 1,
      "metadata": {
        "colab": {
          "base_uri": "https://localhost:8080/"
        },
        "id": "ISJVgELMtfy0",
        "outputId": "df3ffae2-8713-4ab4-d721-f34178b53598"
      },
      "outputs": [
        {
          "output_type": "stream",
          "name": "stdout",
          "text": [
            "Hello Ahmed\n"
          ]
        }
      ],
      "source": [
        "print(\"Hello Ahmed\")"
      ]
    },
    {
      "cell_type": "code",
      "source": [
        "name =  \"Amir\"\n",
        "age = 22\n",
        "name = \"Ahmed\"\n",
        "age = 23.8\n",
        "print(name)\n",
        "print(age)"
      ],
      "metadata": {
        "colab": {
          "base_uri": "https://localhost:8080/"
        },
        "id": "SoqjeoDtumH6",
        "outputId": "acb47e0e-8850-4863-b812-66492ffdeb4e"
      },
      "execution_count": 7,
      "outputs": [
        {
          "output_type": "stream",
          "name": "stdout",
          "text": [
            "Ahmed\n",
            "23.8\n"
          ]
        }
      ]
    },
    {
      "cell_type": "code",
      "source": [
        "# Add a person with name Amir raza.\n",
        "# amir raza age is 51 years old.\n",
        "# Tony is a genius.\n",
        "\n",
        "# By user Input\n",
        "\n",
        "name = input(\"what is your name? \")\n",
        "print(\" hello \" + name)"
      ],
      "metadata": {
        "colab": {
          "base_uri": "https://localhost:8080/"
        },
        "id": "lpRaDRTcvnkT",
        "outputId": "0767bc51-dac3-4fd5-dd4f-52dd4f225258"
      },
      "execution_count": 12,
      "outputs": [
        {
          "output_type": "stream",
          "name": "stdout",
          "text": [
            "what is your name? Amir raza\n",
            " hello Amir raza\n"
          ]
        }
      ]
    },
    {
      "cell_type": "code",
      "source": [
        "# Type conversion\n",
        "\n",
        "\n",
        "old_age = input(\"Enter your old age : \")\n",
        "int(old_age)\n",
        "new_age = int(old_age) + 2\n",
        "print(new_age)\n",
        "\n",
        "# Float value\n",
        "\n",
        "number = 16\n",
        "print(float(18))"
      ],
      "metadata": {
        "colab": {
          "base_uri": "https://localhost:8080/"
        },
        "id": "FWZjgmJ-xHZV",
        "outputId": "5c018ccc-8858-4a4a-da17-77f2e25775bc"
      },
      "execution_count": 17,
      "outputs": [
        {
          "output_type": "stream",
          "name": "stdout",
          "text": [
            "Enter your old age : 18\n",
            "20\n",
            "18.0\n"
          ]
        }
      ]
    }
  ]
}