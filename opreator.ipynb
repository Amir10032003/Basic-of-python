{
  "nbformat": 4,
  "nbformat_minor": 0,
  "metadata": {
    "colab": {
      "provenance": [],
      "authorship_tag": "ABX9TyPxJXHn5oNF2VhbKxVe8kyF",
      "include_colab_link": true
    },
    "kernelspec": {
      "name": "python3",
      "display_name": "Python 3"
    },
    "language_info": {
      "name": "python"
    }
  },
  "cells": [
    {
      "cell_type": "markdown",
      "metadata": {
        "id": "view-in-github",
        "colab_type": "text"
      },
      "source": [
        "<a href=\"https://colab.research.google.com/github/Amir10032003/Basic-of-python/blob/main/opreator.ipynb\" target=\"_parent\"><img src=\"https://colab.research.google.com/assets/colab-badge.svg\" alt=\"Open In Colab\"/></a>"
      ]
    },
    {
      "cell_type": "code",
      "execution_count": 3,
      "metadata": {
        "colab": {
          "base_uri": "https://localhost:8080/"
        },
        "id": "2EnCo7WOXTDr",
        "outputId": "68ae9204-246a-4cab-b623-2d21e01af562"
      },
      "outputs": [
        {
          "output_type": "stream",
          "name": "stdout",
          "text": [
            "False\n",
            "True\n",
            "False\n",
            "True\n",
            "False\n",
            "False\n"
          ]
        }
      ],
      "source": [
        "# comparison opreator\n",
        "print(3<2)\n",
        "print(3>2)\n",
        "print(4<=2)\n",
        "print(5>=2)\n",
        "print(5==3)\n",
        "print(3!=3) # reverse the value"
      ]
    },
    {
      "cell_type": "code",
      "source": [
        "# logical operator\n",
        "\n",
        "print(2 > 3 or 2 > 1) # OR\n",
        " # AND optr\n",
        "print( 3 > 2 and 3 > 2)\n",
        "\n",
        "# NOT optr\n",
        "\n",
        "print( not 4 > 3  )"
      ],
      "metadata": {
        "colab": {
          "base_uri": "https://localhost:8080/"
        },
        "id": "0Muhgj_CYfuv",
        "outputId": "077f1183-0ebc-475f-b7e8-8f96bc6da456"
      },
      "execution_count": 8,
      "outputs": [
        {
          "output_type": "stream",
          "name": "stdout",
          "text": [
            "True\n",
            "True\n",
            "False\n"
          ]
        }
      ]
    },
    {
      "cell_type": "code",
      "source": [
        "# if else statement\n",
        "age = 13\n",
        "\n",
        "if age >= 18:\n",
        "  print(\"you are an adult\")\n",
        "  print(\"you can vote\")\n",
        "\n",
        "elif age < 18 and age > 3:\n",
        "  print(\"you are in school\")\n",
        "else:\n",
        "  print(\"you are a chlid\")\n"
      ],
      "metadata": {
        "colab": {
          "base_uri": "https://localhost:8080/"
        },
        "id": "lExVEMPVZWkw",
        "outputId": "32c3ba4c-b69a-4859-9dfb-37b08422b5e7"
      },
      "execution_count": 11,
      "outputs": [
        {
          "output_type": "stream",
          "name": "stdout",
          "text": [
            "you are in school\n"
          ]
        }
      ]
    }
  ]
}