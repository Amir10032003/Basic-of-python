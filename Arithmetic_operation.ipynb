{
  "nbformat": 4,
  "nbformat_minor": 0,
  "metadata": {
    "colab": {
      "provenance": [],
      "authorship_tag": "ABX9TyP7rR5cU8kUIZ8z18LUlaEg",
      "include_colab_link": true
    },
    "kernelspec": {
      "name": "python3",
      "display_name": "Python 3"
    },
    "language_info": {
      "name": "python"
    }
  },
  "cells": [
    {
      "cell_type": "markdown",
      "metadata": {
        "id": "view-in-github",
        "colab_type": "text"
      },
      "source": [
        "<a href=\"https://colab.research.google.com/github/Amir10032003/Basic-of-python/blob/main/Arithmetic_operation.ipynb\" target=\"_parent\"><img src=\"https://colab.research.google.com/assets/colab-badge.svg\" alt=\"Open In Colab\"/></a>"
      ]
    },
    {
      "cell_type": "code",
      "source": [
        "#arithmetic operation\n",
        "print(4 + 6)\n",
        "print(4 - 5)\n",
        "print(3 * 6)\n",
        "print(16 // 8)\n",
        "print( 5 % 2)\n",
        "print(5 ** 2)"
      ],
      "metadata": {
        "id": "C4VsN2uXqQz9",
        "colab": {
          "base_uri": "https://localhost:8080/"
        },
        "outputId": "cbae568a-a2a4-4fe0-d3c0-bd467e8cd4e0"
      },
      "execution_count": 10,
      "outputs": [
        {
          "output_type": "stream",
          "name": "stdout",
          "text": [
            "10\n",
            "-1\n",
            "18\n",
            "2\n",
            "1\n",
            "25\n"
          ]
        }
      ]
    },
    {
      "cell_type": "code",
      "source": [
        "#precident\n",
        "result = 2 + 3 * 5\n",
        "print(result)"
      ],
      "metadata": {
        "colab": {
          "base_uri": "https://localhost:8080/"
        },
        "id": "5J7gluwQ5qAX",
        "outputId": "8ff70cfd-c042-4629-8fc4-3d250dfd784e"
      },
      "execution_count": 11,
      "outputs": [
        {
          "output_type": "stream",
          "name": "stdout",
          "text": [
            "17\n"
          ]
        }
      ]
    }
  ]
}