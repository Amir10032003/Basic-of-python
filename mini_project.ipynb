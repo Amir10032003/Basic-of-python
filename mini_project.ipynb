{
  "nbformat": 4,
  "nbformat_minor": 0,
  "metadata": {
    "colab": {
      "provenance": [],
      "authorship_tag": "ABX9TyNS4AgSWRx/yNpEOZXXuzj6",
      "include_colab_link": true
    },
    "kernelspec": {
      "name": "python3",
      "display_name": "Python 3"
    },
    "language_info": {
      "name": "python"
    }
  },
  "cells": [
    {
      "cell_type": "markdown",
      "metadata": {
        "id": "view-in-github",
        "colab_type": "text"
      },
      "source": [
        "<a href=\"https://colab.research.google.com/github/Amir10032003/Basic-of-python/blob/main/mini_project.ipynb\" target=\"_parent\"><img src=\"https://colab.research.google.com/assets/colab-badge.svg\" alt=\"Open In Colab\"/></a>"
      ]
    },
    {
      "cell_type": "code",
      "execution_count": 3,
      "metadata": {
        "colab": {
          "base_uri": "https://localhost:8080/"
        },
        "id": "nt-lMLAFbFsD",
        "outputId": "51fd7022-fdd6-49d5-a04c-d740133fcf08"
      },
      "outputs": [
        {
          "output_type": "stream",
          "name": "stdout",
          "text": [
            "Enter first number : 3\n",
            "Enter opreator (+,-,*,/,%): +\n",
            "Enter second number : 4\n",
            "7\n"
          ]
        }
      ],
      "source": [
        "# let's build a calculator\n",
        "first = input(\"Enter first number : \")\n",
        "operator = input(\"Enter opreator (+,-,*,/,%): \")\n",
        "second = input(\"Enter second number : \")\n",
        "\n",
        "first = int(first)\n",
        "second = int(second)\n",
        "\n",
        "if operator == \"+\":\n",
        "  print(first + second)\n",
        "elif operator == \"-\":\n",
        "  print(first - second)\n",
        "elif operator == \"*\":\n",
        "  print(first * second)\n",
        "elif operator == \"/\":\n",
        "  print(first / second)\n",
        "elif operator == \"%\":\n",
        "  print(first % second)\n",
        "\n",
        "else:\n",
        "  print(\"invalid operator\")"
      ]
    }
  ]
}